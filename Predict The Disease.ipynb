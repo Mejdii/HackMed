{
  "nbformat": 4,
  "nbformat_minor": 0,
  "metadata": {
    "colab": {
      "name": "HackMed.ipynb",
      "provenance": [],
      "collapsed_sections": [],
      "authorship_tag": "ABX9TyN5dEGqC2z4iCv+Dtqeecoj",
      "include_colab_link": true
    },
    "kernelspec": {
      "name": "python3",
      "display_name": "Python 3"
    },
    "language_info": {
      "name": "python"
    }
  },
  "cells": [
    {
      "cell_type": "markdown",
      "metadata": {
        "id": "view-in-github",
        "colab_type": "text"
      },
      "source": [
        "<a href=\"https://colab.research.google.com/github/Mejdii/HackMed/blob/main/Predict%20The%20Disease.ipynb\" target=\"_parent\"><img src=\"https://colab.research.google.com/assets/colab-badge.svg\" alt=\"Open In Colab\"/></a>"
      ]
    },
    {
      "cell_type": "code",
      "metadata": {
        "id": "qdzc6UvruU_9"
      },
      "source": [
        "import pandas as pd\n",
        "import numpy as np\n",
        "import seaborn as sns"
      ],
      "execution_count": 3,
      "outputs": []
    },
    {
      "cell_type": "code",
      "metadata": {
        "colab": {
          "base_uri": "https://localhost:8080/",
          "height": 683
        },
        "id": "iF-eq2BGunsW",
        "outputId": "b591bf75-1e41-4893-80bb-5359c3a34e27"
      },
      "source": [
        "dataset=pd.read_excel(\"/content/Patient_dataset (2).xlsx\")\n",
        "dataset.head()"
      ],
      "execution_count": 4,
      "outputs": [
        {
          "output_type": "execute_result",
          "data": {
            "text/html": [
              "<div>\n",
              "<style scoped>\n",
              "    .dataframe tbody tr th:only-of-type {\n",
              "        vertical-align: middle;\n",
              "    }\n",
              "\n",
              "    .dataframe tbody tr th {\n",
              "        vertical-align: top;\n",
              "    }\n",
              "\n",
              "    .dataframe thead th {\n",
              "        text-align: right;\n",
              "    }\n",
              "</style>\n",
              "<table border=\"1\" class=\"dataframe\">\n",
              "  <thead>\n",
              "    <tr style=\"text-align: right;\">\n",
              "      <th></th>\n",
              "      <th>Patient ID</th>\n",
              "      <th>Forename</th>\n",
              "      <th>Surname</th>\n",
              "      <th>Date of Birth</th>\n",
              "      <th>Sex</th>\n",
              "      <th>Past medical history</th>\n",
              "      <th>Medications</th>\n",
              "      <th>Sodium</th>\n",
              "      <th>Potassium</th>\n",
              "      <th>Urea</th>\n",
              "      <th>Creatinine</th>\n",
              "      <th>bicarbonate</th>\n",
              "      <th>chloride</th>\n",
              "      <th>Haemoglobin</th>\n",
              "      <th>Mean cell count</th>\n",
              "      <th>Platelets</th>\n",
              "      <th>WBC</th>\n",
              "      <th>Neutrophils</th>\n",
              "      <th>Lymphocytes</th>\n",
              "      <th>Eosinophils</th>\n",
              "      <th>Disease</th>\n",
              "      <th>Patient notes entry - 24/04/21</th>\n",
              "    </tr>\n",
              "  </thead>\n",
              "  <tbody>\n",
              "    <tr>\n",
              "      <th>0</th>\n",
              "      <td>XY123</td>\n",
              "      <td>Joe</td>\n",
              "      <td>Bloggs</td>\n",
              "      <td>1997-10-17</td>\n",
              "      <td>M</td>\n",
              "      <td>Polycystic Kidney disease , Hypertension,</td>\n",
              "      <td>rampril - 10mg OD\\nBiosprolol - 12mg BD</td>\n",
              "      <td>134</td>\n",
              "      <td>4.5</td>\n",
              "      <td>5.0</td>\n",
              "      <td>80</td>\n",
              "      <td>26</td>\n",
              "      <td>95</td>\n",
              "      <td>137</td>\n",
              "      <td>92</td>\n",
              "      <td>200</td>\n",
              "      <td>6*10^9</td>\n",
              "      <td>3*10^9</td>\n",
              "      <td>3*10^9</td>\n",
              "      <td>0.3*10^9</td>\n",
              "      <td>Subarachnoid haemorrhage</td>\n",
              "      <td>Patient presented to the emergency department ...</td>\n",
              "    </tr>\n",
              "    <tr>\n",
              "      <th>1</th>\n",
              "      <td>XY124</td>\n",
              "      <td>Herbert</td>\n",
              "      <td>Garraway</td>\n",
              "      <td>1975-05-16</td>\n",
              "      <td>M</td>\n",
              "      <td>Hypertension</td>\n",
              "      <td>Sertaline - 15mg BD\\nBiosprolol - 12mg BD\\nlos...</td>\n",
              "      <td>140</td>\n",
              "      <td>3.0</td>\n",
              "      <td>5.0</td>\n",
              "      <td>80</td>\n",
              "      <td>24</td>\n",
              "      <td>85</td>\n",
              "      <td>138</td>\n",
              "      <td>85</td>\n",
              "      <td>200</td>\n",
              "      <td>5*10^9</td>\n",
              "      <td>4*10^9</td>\n",
              "      <td>2*10^9</td>\n",
              "      <td>0.3*10^9</td>\n",
              "      <td>Irritable bowel syndrome</td>\n",
              "      <td>Patient describes that He is feeling unwell an...</td>\n",
              "    </tr>\n",
              "    <tr>\n",
              "      <th>2</th>\n",
              "      <td>XY125</td>\n",
              "      <td>Aubrey</td>\n",
              "      <td>Stephenson</td>\n",
              "      <td>1984-06-14</td>\n",
              "      <td>F</td>\n",
              "      <td>SLE</td>\n",
              "      <td>rampril - 10mg OD\\nBiosprolol - 12mg BD</td>\n",
              "      <td>200</td>\n",
              "      <td>4.0</td>\n",
              "      <td>7.1</td>\n",
              "      <td>60</td>\n",
              "      <td>30</td>\n",
              "      <td>100</td>\n",
              "      <td>120</td>\n",
              "      <td>90</td>\n",
              "      <td>100</td>\n",
              "      <td>15*10^9</td>\n",
              "      <td>5*10^9</td>\n",
              "      <td>3.5*10^9</td>\n",
              "      <td>0.6*10^9</td>\n",
              "      <td>Acute kidney failure</td>\n",
              "      <td>Patient is generally unwell with myalgia and f...</td>\n",
              "    </tr>\n",
              "    <tr>\n",
              "      <th>3</th>\n",
              "      <td>XY126</td>\n",
              "      <td>Wenzel</td>\n",
              "      <td>Friedmann</td>\n",
              "      <td>1990-05-20</td>\n",
              "      <td>M</td>\n",
              "      <td>Type 1 Diabetes</td>\n",
              "      <td>Sertaline - 15mg BD\\nBiosprolol - 12mg BD\\nlos...</td>\n",
              "      <td>130</td>\n",
              "      <td>6.0</td>\n",
              "      <td>4.0</td>\n",
              "      <td>65</td>\n",
              "      <td>20</td>\n",
              "      <td>80</td>\n",
              "      <td>135</td>\n",
              "      <td>80</td>\n",
              "      <td>190</td>\n",
              "      <td>11*10^9</td>\n",
              "      <td>7*10^9</td>\n",
              "      <td>3*10^9</td>\n",
              "      <td>0.4*10^9</td>\n",
              "      <td>Hypoglycaemia</td>\n",
              "      <td>Patient presented with shaking, sweating and n...</td>\n",
              "    </tr>\n",
              "    <tr>\n",
              "      <th>4</th>\n",
              "      <td>XY127</td>\n",
              "      <td>Mary</td>\n",
              "      <td>Eaker</td>\n",
              "      <td>2000-10-12</td>\n",
              "      <td>F</td>\n",
              "      <td>Iron deifiency anemia</td>\n",
              "      <td>rampril - 10mg OD\\nBiosprolol - 12mg BD</td>\n",
              "      <td>130</td>\n",
              "      <td>4.0</td>\n",
              "      <td>6.0</td>\n",
              "      <td>70</td>\n",
              "      <td>22</td>\n",
              "      <td>97</td>\n",
              "      <td>42</td>\n",
              "      <td>50</td>\n",
              "      <td>105</td>\n",
              "      <td>4*10^9</td>\n",
              "      <td>4*10^9</td>\n",
              "      <td>2.5*10^9</td>\n",
              "      <td>0.2*10^9</td>\n",
              "      <td>Hypothyroidism</td>\n",
              "      <td>Patient found drowsy and confused on the stree...</td>\n",
              "    </tr>\n",
              "  </tbody>\n",
              "</table>\n",
              "</div>"
            ],
            "text/plain": [
              "  Patient ID  ...                     Patient notes entry - 24/04/21\n",
              "0      XY123  ...  Patient presented to the emergency department ...\n",
              "1      XY124  ...  Patient describes that He is feeling unwell an...\n",
              "2      XY125  ...  Patient is generally unwell with myalgia and f...\n",
              "3      XY126  ...  Patient presented with shaking, sweating and n...\n",
              "4      XY127  ...  Patient found drowsy and confused on the stree...\n",
              "\n",
              "[5 rows x 22 columns]"
            ]
          },
          "metadata": {
            "tags": []
          },
          "execution_count": 4
        }
      ]
    },
    {
      "cell_type": "code",
      "metadata": {
        "colab": {
          "base_uri": "https://localhost:8080/",
          "height": 289
        },
        "id": "evwI7q1uvGe6",
        "outputId": "b612d399-ca9a-4b70-baf9-5861acda1230"
      },
      "source": [
        "df=dataset[dataset.columns[4:21]]\n"
      ],
      "execution_count": 48,
      "outputs": [
        {
          "output_type": "stream",
          "text": [
            "/usr/local/lib/python3.7/dist-packages/pandas/core/frame.py:4174: SettingWithCopyWarning: \n",
            "A value is trying to be set on a copy of a slice from a DataFrame\n",
            "\n",
            "See the caveats in the documentation: https://pandas.pydata.org/pandas-docs/stable/user_guide/indexing.html#returning-a-view-versus-a-copy\n",
            "  errors=errors,\n"
          ],
          "name": "stderr"
        },
        {
          "output_type": "execute_result",
          "data": {
            "text/html": [
              "<div>\n",
              "<style scoped>\n",
              "    .dataframe tbody tr th:only-of-type {\n",
              "        vertical-align: middle;\n",
              "    }\n",
              "\n",
              "    .dataframe tbody tr th {\n",
              "        vertical-align: top;\n",
              "    }\n",
              "\n",
              "    .dataframe thead th {\n",
              "        text-align: right;\n",
              "    }\n",
              "</style>\n",
              "<table border=\"1\" class=\"dataframe\">\n",
              "  <thead>\n",
              "    <tr style=\"text-align: right;\">\n",
              "      <th></th>\n",
              "      <th>Sex</th>\n",
              "      <th>Sodium</th>\n",
              "      <th>Potassium</th>\n",
              "      <th>Urea</th>\n",
              "      <th>Creatinine</th>\n",
              "      <th>bicarbonate</th>\n",
              "      <th>chloride</th>\n",
              "      <th>Haemoglobin</th>\n",
              "      <th>Mean cell count</th>\n",
              "      <th>Platelets</th>\n",
              "      <th>Disease</th>\n",
              "    </tr>\n",
              "  </thead>\n",
              "  <tbody>\n",
              "    <tr>\n",
              "      <th>0</th>\n",
              "      <td>M</td>\n",
              "      <td>134</td>\n",
              "      <td>4.5</td>\n",
              "      <td>5.0</td>\n",
              "      <td>80</td>\n",
              "      <td>26</td>\n",
              "      <td>95</td>\n",
              "      <td>137</td>\n",
              "      <td>92</td>\n",
              "      <td>200</td>\n",
              "      <td>Subarachnoid haemorrhage</td>\n",
              "    </tr>\n",
              "    <tr>\n",
              "      <th>1</th>\n",
              "      <td>M</td>\n",
              "      <td>140</td>\n",
              "      <td>3.0</td>\n",
              "      <td>5.0</td>\n",
              "      <td>80</td>\n",
              "      <td>24</td>\n",
              "      <td>85</td>\n",
              "      <td>138</td>\n",
              "      <td>85</td>\n",
              "      <td>200</td>\n",
              "      <td>Irritable bowel syndrome</td>\n",
              "    </tr>\n",
              "    <tr>\n",
              "      <th>2</th>\n",
              "      <td>F</td>\n",
              "      <td>200</td>\n",
              "      <td>4.0</td>\n",
              "      <td>7.1</td>\n",
              "      <td>60</td>\n",
              "      <td>30</td>\n",
              "      <td>100</td>\n",
              "      <td>120</td>\n",
              "      <td>90</td>\n",
              "      <td>100</td>\n",
              "      <td>Acute kidney failure</td>\n",
              "    </tr>\n",
              "    <tr>\n",
              "      <th>3</th>\n",
              "      <td>M</td>\n",
              "      <td>130</td>\n",
              "      <td>6.0</td>\n",
              "      <td>4.0</td>\n",
              "      <td>65</td>\n",
              "      <td>20</td>\n",
              "      <td>80</td>\n",
              "      <td>135</td>\n",
              "      <td>80</td>\n",
              "      <td>190</td>\n",
              "      <td>Hypoglycaemia</td>\n",
              "    </tr>\n",
              "    <tr>\n",
              "      <th>4</th>\n",
              "      <td>F</td>\n",
              "      <td>130</td>\n",
              "      <td>4.0</td>\n",
              "      <td>6.0</td>\n",
              "      <td>70</td>\n",
              "      <td>22</td>\n",
              "      <td>97</td>\n",
              "      <td>42</td>\n",
              "      <td>50</td>\n",
              "      <td>105</td>\n",
              "      <td>Hypothyroidism</td>\n",
              "    </tr>\n",
              "  </tbody>\n",
              "</table>\n",
              "</div>"
            ],
            "text/plain": [
              "  Sex  Sodium  Potassium  ...  Mean cell count  Platelets                   Disease\n",
              "0   M     134        4.5  ...               92        200  Subarachnoid haemorrhage\n",
              "1   M     140        3.0  ...               85        200  Irritable bowel syndrome\n",
              "2   F     200        4.0  ...               90        100      Acute kidney failure\n",
              "3   M     130        6.0  ...               80        190             Hypoglycaemia\n",
              "4   F     130        4.0  ...               50        105            Hypothyroidism\n",
              "\n",
              "[5 rows x 11 columns]"
            ]
          },
          "metadata": {
            "tags": []
          },
          "execution_count": 48
        }
      ]
    },
    {
      "cell_type": "code",
      "metadata": {
        "colab": {
          "base_uri": "https://localhost:8080/",
          "height": 297
        },
        "id": "dXYw_UI_2IVD",
        "outputId": "5b1f3b8d-c09e-4911-a401-1684d8d29b43"
      },
      "source": [
        "df.describe()"
      ],
      "execution_count": 6,
      "outputs": [
        {
          "output_type": "execute_result",
          "data": {
            "text/html": [
              "<div>\n",
              "<style scoped>\n",
              "    .dataframe tbody tr th:only-of-type {\n",
              "        vertical-align: middle;\n",
              "    }\n",
              "\n",
              "    .dataframe tbody tr th {\n",
              "        vertical-align: top;\n",
              "    }\n",
              "\n",
              "    .dataframe thead th {\n",
              "        text-align: right;\n",
              "    }\n",
              "</style>\n",
              "<table border=\"1\" class=\"dataframe\">\n",
              "  <thead>\n",
              "    <tr style=\"text-align: right;\">\n",
              "      <th></th>\n",
              "      <th>Sodium</th>\n",
              "      <th>Potassium</th>\n",
              "      <th>Urea</th>\n",
              "      <th>Creatinine</th>\n",
              "      <th>bicarbonate</th>\n",
              "      <th>chloride</th>\n",
              "      <th>Haemoglobin</th>\n",
              "      <th>Mean cell count</th>\n",
              "      <th>Platelets</th>\n",
              "    </tr>\n",
              "  </thead>\n",
              "  <tbody>\n",
              "    <tr>\n",
              "      <th>count</th>\n",
              "      <td>9.000000</td>\n",
              "      <td>9.000000</td>\n",
              "      <td>9.000000</td>\n",
              "      <td>9.000000</td>\n",
              "      <td>9.000000</td>\n",
              "      <td>9.000000</td>\n",
              "      <td>9.000000</td>\n",
              "      <td>9.000000</td>\n",
              "      <td>9.000000</td>\n",
              "    </tr>\n",
              "    <tr>\n",
              "      <th>mean</th>\n",
              "      <td>134.333333</td>\n",
              "      <td>3.722222</td>\n",
              "      <td>7.455556</td>\n",
              "      <td>75.777778</td>\n",
              "      <td>27.888889</td>\n",
              "      <td>91.555556</td>\n",
              "      <td>123.555556</td>\n",
              "      <td>83.555556</td>\n",
              "      <td>163.333333</td>\n",
              "    </tr>\n",
              "    <tr>\n",
              "      <th>std</th>\n",
              "      <td>27.092434</td>\n",
              "      <td>1.121135</td>\n",
              "      <td>4.875221</td>\n",
              "      <td>13.645309</td>\n",
              "      <td>5.206833</td>\n",
              "      <td>7.019813</td>\n",
              "      <td>31.241443</td>\n",
              "      <td>13.830321</td>\n",
              "      <td>46.569840</td>\n",
              "    </tr>\n",
              "    <tr>\n",
              "      <th>min</th>\n",
              "      <td>100.000000</td>\n",
              "      <td>2.000000</td>\n",
              "      <td>4.000000</td>\n",
              "      <td>60.000000</td>\n",
              "      <td>20.000000</td>\n",
              "      <td>80.000000</td>\n",
              "      <td>42.000000</td>\n",
              "      <td>50.000000</td>\n",
              "      <td>100.000000</td>\n",
              "    </tr>\n",
              "    <tr>\n",
              "      <th>25%</th>\n",
              "      <td>125.000000</td>\n",
              "      <td>3.000000</td>\n",
              "      <td>5.000000</td>\n",
              "      <td>65.000000</td>\n",
              "      <td>24.000000</td>\n",
              "      <td>86.000000</td>\n",
              "      <td>130.000000</td>\n",
              "      <td>80.000000</td>\n",
              "      <td>105.000000</td>\n",
              "    </tr>\n",
              "    <tr>\n",
              "      <th>50%</th>\n",
              "      <td>130.000000</td>\n",
              "      <td>3.500000</td>\n",
              "      <td>6.000000</td>\n",
              "      <td>70.000000</td>\n",
              "      <td>30.000000</td>\n",
              "      <td>91.000000</td>\n",
              "      <td>135.000000</td>\n",
              "      <td>85.000000</td>\n",
              "      <td>190.000000</td>\n",
              "    </tr>\n",
              "    <tr>\n",
              "      <th>75%</th>\n",
              "      <td>134.000000</td>\n",
              "      <td>4.000000</td>\n",
              "      <td>7.100000</td>\n",
              "      <td>80.000000</td>\n",
              "      <td>30.000000</td>\n",
              "      <td>97.000000</td>\n",
              "      <td>138.000000</td>\n",
              "      <td>92.000000</td>\n",
              "      <td>200.000000</td>\n",
              "    </tr>\n",
              "    <tr>\n",
              "      <th>max</th>\n",
              "      <td>200.000000</td>\n",
              "      <td>6.000000</td>\n",
              "      <td>20.000000</td>\n",
              "      <td>100.000000</td>\n",
              "      <td>35.000000</td>\n",
              "      <td>100.000000</td>\n",
              "      <td>140.000000</td>\n",
              "      <td>95.000000</td>\n",
              "      <td>200.000000</td>\n",
              "    </tr>\n",
              "  </tbody>\n",
              "</table>\n",
              "</div>"
            ],
            "text/plain": [
              "           Sodium  Potassium  ...  Mean cell count   Platelets\n",
              "count    9.000000   9.000000  ...         9.000000    9.000000\n",
              "mean   134.333333   3.722222  ...        83.555556  163.333333\n",
              "std     27.092434   1.121135  ...        13.830321   46.569840\n",
              "min    100.000000   2.000000  ...        50.000000  100.000000\n",
              "25%    125.000000   3.000000  ...        80.000000  105.000000\n",
              "50%    130.000000   3.500000  ...        85.000000  190.000000\n",
              "75%    134.000000   4.000000  ...        92.000000  200.000000\n",
              "max    200.000000   6.000000  ...        95.000000  200.000000\n",
              "\n",
              "[8 rows x 9 columns]"
            ]
          },
          "metadata": {
            "tags": []
          },
          "execution_count": 6
        }
      ]
    },
    {
      "cell_type": "code",
      "metadata": {
        "id": "72RGVWiG-6qS"
      },
      "source": [
        "from sklearn.tree import DecisionTreeClassifier\n",
        "from sklearn import metrics\n",
        "from sklearn.model_selection import train_test_split\n"
      ],
      "execution_count": 9,
      "outputs": []
    },
    {
      "cell_type": "code",
      "metadata": {
        "colab": {
          "base_uri": "https://localhost:8080/",
          "height": 1000
        },
        "id": "2gSnIYN-Bebo",
        "outputId": "ae2d5a13-a9eb-4d85-d068-01b003a4cd2e"
      },
      "source": [
        "sns.pairplot(df)"
      ],
      "execution_count": 10,
      "outputs": [
        {
          "output_type": "execute_result",
          "data": {
            "text/plain": [
              "<seaborn.axisgrid.PairGrid at 0x7f3ba8aa5bd0>"
            ]
          },
          "metadata": {
            "tags": []
          },
          "execution_count": 10
        },
        {
          "output_type": "display_data",
          "data": {
            "image/png": "[encoded data removed]",
            "text/plain": [
              "<Figure size 1620x1620 with 90 Axes>"
            ]
          },
          "metadata": {
            "tags": [],
            "needs_background": "light"
          }
        }
      ]
    },
    {
      "cell_type": "code",
      "metadata": {
        "colab": {
          "base_uri": "https://localhost:8080/",
          "height": 306
        },
        "id": "MslzBF0Ue2eP",
        "outputId": "a7835cc8-53a8-43af-de53-12ea9f53c54d"
      },
      "source": [
        "# pre-process the data\n",
        "from sklearn.preprocessing import LabelEncoder\n",
        "lb=LabelEncoder()\n",
        "df[\"Sex\"]=lb.fit_transform(df[\"Sex\"])\n",
        "df.head()"
      ],
      "execution_count": 49,
      "outputs": [
        {
          "output_type": "stream",
          "text": [
            "/usr/local/lib/python3.7/dist-packages/ipykernel_launcher.py:4: SettingWithCopyWarning: \n",
            "A value is trying to be set on a copy of a slice from a DataFrame.\n",
            "Try using .loc[row_indexer,col_indexer] = value instead\n",
            "\n",
            "See the caveats in the documentation: https://pandas.pydata.org/pandas-docs/stable/user_guide/indexing.html#returning-a-view-versus-a-copy\n",
            "  after removing the cwd from sys.path.\n"
          ],
          "name": "stderr"
        },
        {
          "output_type": "execute_result",
          "data": {
            "text/html": [
              "<div>\n",
              "<style scoped>\n",
              "    .dataframe tbody tr th:only-of-type {\n",
              "        vertical-align: middle;\n",
              "    }\n",
              "\n",
              "    .dataframe tbody tr th {\n",
              "        vertical-align: top;\n",
              "    }\n",
              "\n",
              "    .dataframe thead th {\n",
              "        text-align: right;\n",
              "    }\n",
              "</style>\n",
              "<table border=\"1\" class=\"dataframe\">\n",
              "  <thead>\n",
              "    <tr style=\"text-align: right;\">\n",
              "      <th></th>\n",
              "      <th>Sex</th>\n",
              "      <th>Sodium</th>\n",
              "      <th>Potassium</th>\n",
              "      <th>Urea</th>\n",
              "      <th>Creatinine</th>\n",
              "      <th>bicarbonate</th>\n",
              "      <th>chloride</th>\n",
              "      <th>Haemoglobin</th>\n",
              "      <th>Mean cell count</th>\n",
              "      <th>Platelets</th>\n",
              "      <th>Disease</th>\n",
              "    </tr>\n",
              "  </thead>\n",
              "  <tbody>\n",
              "    <tr>\n",
              "      <th>0</th>\n",
              "      <td>1</td>\n",
              "      <td>134</td>\n",
              "      <td>4.5</td>\n",
              "      <td>5.0</td>\n",
              "      <td>80</td>\n",
              "      <td>26</td>\n",
              "      <td>95</td>\n",
              "      <td>137</td>\n",
              "      <td>92</td>\n",
              "      <td>200</td>\n",
              "      <td>Subarachnoid haemorrhage</td>\n",
              "    </tr>\n",
              "    <tr>\n",
              "      <th>1</th>\n",
              "      <td>1</td>\n",
              "      <td>140</td>\n",
              "      <td>3.0</td>\n",
              "      <td>5.0</td>\n",
              "      <td>80</td>\n",
              "      <td>24</td>\n",
              "      <td>85</td>\n",
              "      <td>138</td>\n",
              "      <td>85</td>\n",
              "      <td>200</td>\n",
              "      <td>Irritable bowel syndrome</td>\n",
              "    </tr>\n",
              "    <tr>\n",
              "      <th>2</th>\n",
              "      <td>0</td>\n",
              "      <td>200</td>\n",
              "      <td>4.0</td>\n",
              "      <td>7.1</td>\n",
              "      <td>60</td>\n",
              "      <td>30</td>\n",
              "      <td>100</td>\n",
              "      <td>120</td>\n",
              "      <td>90</td>\n",
              "      <td>100</td>\n",
              "      <td>Acute kidney failure</td>\n",
              "    </tr>\n",
              "    <tr>\n",
              "      <th>3</th>\n",
              "      <td>1</td>\n",
              "      <td>130</td>\n",
              "      <td>6.0</td>\n",
              "      <td>4.0</td>\n",
              "      <td>65</td>\n",
              "      <td>20</td>\n",
              "      <td>80</td>\n",
              "      <td>135</td>\n",
              "      <td>80</td>\n",
              "      <td>190</td>\n",
              "      <td>Hypoglycaemia</td>\n",
              "    </tr>\n",
              "    <tr>\n",
              "      <th>4</th>\n",
              "      <td>0</td>\n",
              "      <td>130</td>\n",
              "      <td>4.0</td>\n",
              "      <td>6.0</td>\n",
              "      <td>70</td>\n",
              "      <td>22</td>\n",
              "      <td>97</td>\n",
              "      <td>42</td>\n",
              "      <td>50</td>\n",
              "      <td>105</td>\n",
              "      <td>Hypothyroidism</td>\n",
              "    </tr>\n",
              "  </tbody>\n",
              "</table>\n",
              "</div>"
            ],
            "text/plain": [
              "   Sex  Sodium  Potassium  ...  Mean cell count  Platelets                   Disease\n",
              "0    1     134        4.5  ...               92        200  Subarachnoid haemorrhage\n",
              "1    1     140        3.0  ...               85        200  Irritable bowel syndrome\n",
              "2    0     200        4.0  ...               90        100      Acute kidney failure\n",
              "3    1     130        6.0  ...               80        190             Hypoglycaemia\n",
              "4    0     130        4.0  ...               50        105            Hypothyroidism\n",
              "\n",
              "[5 rows x 11 columns]"
            ]
          },
          "metadata": {
            "tags": []
          },
          "execution_count": 49
        }
      ]
    },
    {
      "cell_type": "code",
      "metadata": {
        "id": "PqVk92njdA1G"
      },
      "source": [
        "y=df['Disease']\n",
        "x=df.drop(\"Disease\", axis=1)\n",
        "# Split dataset into training set and test set\n",
        "x_train,x_test,y_train,y_test=train_test_split(x,y,random_state=1)"
      ],
      "execution_count": 50,
      "outputs": []
    },
    {
      "cell_type": "code",
      "metadata": {
        "id": "TfxcTJEmeA4B"
      },
      "source": [
        "# Create Decision Tree classifer object\n",
        "clf = DecisionTreeClassifier()\n",
        "# Train Decision Tree Classifer\n",
        "clf = clf.fit(x_train,y_train)\n",
        "\n",
        "#Predict the response for test dataset\n",
        "y_pred = clf.predict(x_test)"
      ],
      "execution_count": 51,
      "outputs": []
    },
    {
      "cell_type": "code",
      "metadata": {
        "colab": {
          "base_uri": "https://localhost:8080/"
        },
        "id": "jsHrgPHJexlZ",
        "outputId": "48349287-f713-46ee-fe20-cd7e7e7f50f2"
      },
      "source": [
        "x_test.index\n"
      ],
      "execution_count": 62,
      "outputs": [
        {
          "output_type": "execute_result",
          "data": {
            "text/plain": [
              "Int64Index([8, 2, 6], dtype='int64')"
            ]
          },
          "metadata": {
            "tags": []
          },
          "execution_count": 62
        }
      ]
    },
    {
      "cell_type": "code",
      "metadata": {
        "colab": {
          "base_uri": "https://localhost:8080/",
          "height": 142
        },
        "id": "WaAapJ69l6Kh",
        "outputId": "0348a8c2-db2e-471a-9822-3c885e77139e"
      },
      "source": [
        "patients=dataset.iloc[[2, 6, 8], [0, 1]]\n",
        "patients.head()"
      ],
      "execution_count": 84,
      "outputs": [
        {
          "output_type": "execute_result",
          "data": {
            "text/html": [
              "<div>\n",
              "<style scoped>\n",
              "    .dataframe tbody tr th:only-of-type {\n",
              "        vertical-align: middle;\n",
              "    }\n",
              "\n",
              "    .dataframe tbody tr th {\n",
              "        vertical-align: top;\n",
              "    }\n",
              "\n",
              "    .dataframe thead th {\n",
              "        text-align: right;\n",
              "    }\n",
              "</style>\n",
              "<table border=\"1\" class=\"dataframe\">\n",
              "  <thead>\n",
              "    <tr style=\"text-align: right;\">\n",
              "      <th></th>\n",
              "      <th>Patient ID</th>\n",
              "      <th>Forename</th>\n",
              "    </tr>\n",
              "  </thead>\n",
              "  <tbody>\n",
              "    <tr>\n",
              "      <th>2</th>\n",
              "      <td>XY125</td>\n",
              "      <td>Aubrey</td>\n",
              "    </tr>\n",
              "    <tr>\n",
              "      <th>6</th>\n",
              "      <td>XY129</td>\n",
              "      <td>Teresa</td>\n",
              "    </tr>\n",
              "    <tr>\n",
              "      <th>8</th>\n",
              "      <td>XY131</td>\n",
              "      <td>Fletcher</td>\n",
              "    </tr>\n",
              "  </tbody>\n",
              "</table>\n",
              "</div>"
            ],
            "text/plain": [
              "  Patient ID   Forename\n",
              "2      XY125    Aubrey \n",
              "6      XY129     Teresa\n",
              "8      XY131  Fletcher "
            ]
          },
          "metadata": {
            "tags": []
          },
          "execution_count": 84
        }
      ]
    },
    {
      "cell_type": "code",
      "metadata": {
        "id": "Wwa8P1-zl803"
      },
      "source": [
        "patients[\"The Predicted Disease\"]=y_pred"
      ],
      "execution_count": 86,
      "outputs": []
    },
    {
      "cell_type": "code",
      "metadata": {
        "colab": {
          "base_uri": "https://localhost:8080/",
          "height": 142
        },
        "id": "Hlw-xdbfoaJe",
        "outputId": "80bb4ae9-cbc9-4b2e-a5c6-30d1641efd03"
      },
      "source": [
        "patients.head()"
      ],
      "execution_count": 87,
      "outputs": [
        {
          "output_type": "execute_result",
          "data": {
            "text/html": [
              "<div>\n",
              "<style scoped>\n",
              "    .dataframe tbody tr th:only-of-type {\n",
              "        vertical-align: middle;\n",
              "    }\n",
              "\n",
              "    .dataframe tbody tr th {\n",
              "        vertical-align: top;\n",
              "    }\n",
              "\n",
              "    .dataframe thead th {\n",
              "        text-align: right;\n",
              "    }\n",
              "</style>\n",
              "<table border=\"1\" class=\"dataframe\">\n",
              "  <thead>\n",
              "    <tr style=\"text-align: right;\">\n",
              "      <th></th>\n",
              "      <th>Patient ID</th>\n",
              "      <th>Forename</th>\n",
              "      <th>The Predicted Disease</th>\n",
              "    </tr>\n",
              "  </thead>\n",
              "  <tbody>\n",
              "    <tr>\n",
              "      <th>2</th>\n",
              "      <td>XY125</td>\n",
              "      <td>Aubrey</td>\n",
              "      <td>Hypoglycaemia</td>\n",
              "    </tr>\n",
              "    <tr>\n",
              "      <th>6</th>\n",
              "      <td>XY129</td>\n",
              "      <td>Teresa</td>\n",
              "      <td>Hypoglycaemia</td>\n",
              "    </tr>\n",
              "    <tr>\n",
              "      <th>8</th>\n",
              "      <td>XY131</td>\n",
              "      <td>Fletcher</td>\n",
              "      <td>Gastroenteritis</td>\n",
              "    </tr>\n",
              "  </tbody>\n",
              "</table>\n",
              "</div>"
            ],
            "text/plain": [
              "  Patient ID   Forename The Predicted Disease\n",
              "2      XY125    Aubrey          Hypoglycaemia\n",
              "6      XY129     Teresa         Hypoglycaemia\n",
              "8      XY131  Fletcher        Gastroenteritis"
            ]
          },
          "metadata": {
            "tags": []
          },
          "execution_count": 87
        }
      ]
    },
    {
      "cell_type": "code",
      "metadata": {
        "colab": {
          "base_uri": "https://localhost:8080/"
        },
        "id": "C-Ei5kM1pvTI",
        "outputId": "667d334f-fa65-4b85-a624-d477fa3012eb"
      },
      "source": [
        "print(\"Accuracy:\",metrics.accuracy_score(y_test, y_pred))\n"
      ],
      "execution_count": 89,
      "outputs": [
        {
          "output_type": "stream",
          "text": [
            "Accuracy: 80\n"
          ],
          "name": "stdout"
        }
      ]
    },
    {
      "cell_type": "code",
      "metadata": {
        "id": "NSrJAiUap4oK"
      },
      "source": [
        ""
      ],
      "execution_count": 91,
      "outputs": []
    },
    {
      "cell_type": "code",
      "metadata": {
        "id": "KSyoWdpkqW8t"
      },
      "source": [
        ""
      ],
      "execution_count": null,
      "outputs": []
    }
  ]
}